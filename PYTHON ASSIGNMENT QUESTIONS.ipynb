{
 "cells": [
  {
   "cell_type": "code",
   "execution_count": null,
   "id": "c422f837",
   "metadata": {},
   "outputs": [],
   "source": [
    "1. Who developed Python Programming Language?\n",
    "2. Which type of Programming does Python support?\n",
    "3. Is Python case sensitive when dealing with identifiers?\n",
    "4. What is the correct extension of the Python file?\n",
    "5. Is Python code compiled or interpreted?\n",
    "6. Namea few blocks of code used to define in Python language?\n",
    "7. State a character used to give single-line comments in Python?\n",
    "8. Mention functions which can help us to find the version of python that we are currently working on?\n",
    "9. Python supports the creation of anonymous functions at runtime, using a construct caled\n",
    "10. What does pip stand for python?\n",
    "1. Mention a few built-in functions in python?\n",
    "12. What is the maximum possible length of an identifier in Python?\n",
    "13. What are the benefits of using Python?\n",
    "14. How is memory managed in Python?\n",
    "15. How to install Python on Windows and set path variables?\n",
    "16. Is indentation required in python?"
   ]
  },
  {
   "cell_type": "code",
   "execution_count": null,
   "id": "c442678f",
   "metadata": {},
   "outputs": [],
   "source": []
  },
  {
   "cell_type": "markdown",
   "id": "f01ac177",
   "metadata": {},
   "source": [
    "# 1. Who developed Python Programming Language?"
   ]
  },
  {
   "cell_type": "code",
   "execution_count": null,
   "id": "28f15bb7",
   "metadata": {},
   "outputs": [],
   "source": [
    "'''The Python programming language was developed by Guido van Rossum in the late 1980s at Centrum Wiskunde & Informatica (CWI) \n",
    "in the Netherlands.\n",
    "Van Rossum was inspired to create Python by the ABC programming language, which was designed to be easy to learn and use. \n",
    "He also wanted to create a language that was more expressive than C, which was the language that he was using at the time.\n",
    "\n",
    "Python is a general-purpose programming language that is used for a variety of tasks, including web development, data science, and machine learning. \n",
    "It is a popular language among beginners and experienced programmers alike.\n",
    "\n",
    "some of the features of Python that make it a popular language:\n",
    "\n",
    "\n",
    "Easy to learn: Python is a relatively easy language to learn, especially for beginners. \n",
    "The syntax is simple and straightforward, and there are many resources available to help people learn the language.\n",
    "\n",
    "Expressive: Python is a very expressive language, which means that it allows you to write concise and elegant code. \n",
    "This makes it a good choice for projects where code readability is important.\n",
    "\n",
    "Powerful: Python is a powerful language that can be used to create complex applications. \n",
    "It is also a good choice for scientific computing and data analysis.\n",
    "\n",
    "Portable: Python is a portable language, which means that code written in Python can be run on many different platforms. \n",
    "This makes it a good choice for projects that need to be deployed in a variety of environments.'''"
   ]
  },
  {
   "cell_type": "markdown",
   "id": "c6ddd10c",
   "metadata": {},
   "source": [
    "# 2. Which type of Programming does Python support?"
   ]
  },
  {
   "cell_type": "code",
   "execution_count": null,
   "id": "6106aea0",
   "metadata": {},
   "outputs": [],
   "source": [
    "'''Python is a general-purpose programming language that supports many different programming paradigms, including:\n",
    "\n",
    "Object-oriented programming (OOP): OOP is a programming paradigm that allows you to create objects that have properties and methods. \n",
    "Python is a fully object-oriented language, which means that everything in Python is an object.\n",
    "\n",
    "Functional programming: Functional programming is a programming paradigm that emphasizes the use of functions. \n",
    "Functions are self-contained blocks of code that can be reused. Python supports functional programming, but it is not a purely functional language.\n",
    "\n",
    "Procedural programming: Procedural programming is a programming paradigm that emphasizes the use of procedures. \n",
    "Procedures are blocks of code that are executed in a specific order. Python supports procedural programming, but it is not a purely procedural language.\n",
    "\n",
    "Scripting: Scripting is a type of programming that is used to automate tasks. Python is a popular scripting language, and it is used for a variety of tasks, including web development, data science, and machine learning.'''"
   ]
  },
  {
   "cell_type": "markdown",
   "id": "85330670",
   "metadata": {},
   "source": [
    "# 3. Is Python case sensitive when dealing with identifiers?"
   ]
  },
  {
   "cell_type": "code",
   "execution_count": null,
   "id": "b52e8182",
   "metadata": {},
   "outputs": [],
   "source": [
    "'''Yes, Python is case sensitive when dealing with identifiers.\n",
    "This means that the names of variables, functions, classes, and other objects are case-sensitive. \n",
    "For example, the variable my_variable is different from the variable myVariable\n",
    "\n",
    "for example:\n",
    "\n",
    "my_variable = \"This is my variable.\"\n",
    "\n",
    "print(my_variable)\n",
    "# This will print \"This is my variable.\"\n",
    "\n",
    "myVariable = \"This is a different variable.\"\n",
    "\n",
    "print(myVariable)\n",
    "# This will print \"This is a different variable.\"\n",
    "\n",
    "'''"
   ]
  },
  {
   "cell_type": "markdown",
   "id": "a8b4c289",
   "metadata": {},
   "source": [
    "# 4. What is the correct extension of the Python file?"
   ]
  },
  {
   "cell_type": "code",
   "execution_count": null,
   "id": "ff908f3d",
   "metadata": {},
   "outputs": [],
   "source": [
    "'''The correct extension for a Python file is \".py\". \n",
    "When saving a Python source code file, it is recommended to use the \".py\" extension at the end of the file name. \n",
    "This convention helps identify the file as a Python script or module and allows the operating system and development tools to recognize and handle it appropriately.\n",
    "\n",
    "For example, if you have a Python script named \"my_script.py\", the \".py\" extension indicates that the file contains Python code. \n",
    "This extension is used by default in most programming text editors and integrated development environments (IDEs) when creating and saving Python files.'''"
   ]
  },
  {
   "cell_type": "markdown",
   "id": "91e62ea2",
   "metadata": {},
   "source": [
    "# 5. Is Python code compiled or interpreted?"
   ]
  },
  {
   "cell_type": "code",
   "execution_count": null,
   "id": "3174b6c7",
   "metadata": {},
   "outputs": [],
   "source": [
    "'''Python code is both compiled and interpreted. \n",
    "It is compiled to bytecode, which is then interpreted by the Python virtual machine (PVM).\n",
    "\n",
    "When you run a Python program, the Python interpreter first compiles the source code to bytecode. \n",
    "The bytecode is a more efficient form of the code that can be executed by the PVM. \n",
    "The PVM then interprets the bytecode and executes the instructions.\n",
    "\n",
    "This two-step process of compilation and interpretation makes Python a very versatile language. \n",
    "It can be used for both small scripts and large applications.'''"
   ]
  },
  {
   "cell_type": "markdown",
   "id": "c73dde2b",
   "metadata": {},
   "source": [
    "# 6. Name a few blocks of code used to define in Python language?"
   ]
  },
  {
   "cell_type": "code",
   "execution_count": null,
   "id": "08c69691",
   "metadata": {},
   "outputs": [],
   "source": [
    "'''\n",
    "Here are a few blocks of code used to define in Python language:\n",
    "\n",
    "\n",
    "Functions: \n",
    "\n",
    "A function is a block of code that can be executed as a unit. Functions are defined using the def keyword. \n",
    "For example, the following code defines a function called factorial() that calculates the factorial of a number:\n",
    "\n",
    "def factorial(n):\n",
    "    if n == 0:\n",
    "        return 1\n",
    "    else:\n",
    "        return n * factorial(n - 1)\n",
    "        \n",
    "\n",
    "Classes: \n",
    "\n",
    "A class is a blueprint for creating objects. Classes are defined using the class keyword. \n",
    "For example, the following code defines a class called Dog that has two attributes: name and breed\n",
    "\n",
    "class Dog:\n",
    "    def __init__(self, name, breed):\n",
    "        self.name = name\n",
    "        self.breed = breed\n",
    "        \n",
    "Modules: \n",
    "\n",
    "A module is a file that contains Python code. Modules are used to organize code and to make it easier to reuse code. \n",
    "Modules are defined using the module keyword. For example, the following code defines a module called my_module.py that contains a function called factorial():\n",
    "\n",
    "def factorial(n):\n",
    "    if n == 0:\n",
    "        return 1\n",
    "    else:\n",
    "        return n * factorial(n - 1)\n",
    "        \n",
    "Conditional statements: \n",
    "\n",
    "Conditional statements are used to control the flow of execution of a program. \n",
    "Conditional statements are defined using the if, elif, and else keywords. \n",
    "For example, the following code uses a conditional statement to determine whether a number is even or odd:\n",
    "\n",
    "number = 5\n",
    "\n",
    "if number % 2 == 0:\n",
    "    print(\"The number is even.\")\n",
    "else:\n",
    "    print(\"The number is odd.\")\n",
    "    \n",
    "\n",
    "Loops: \n",
    "\n",
    "Loops are used to repeat a block of code a certain number of times. Loops are defined using the while and for keywords. \n",
    "For example, the following code uses a while loop to print the numbers from 1 to 10:\n",
    "\n",
    "i = 1\n",
    "\n",
    "while i <= 10:\n",
    "    print(i)\n",
    "    i += 1\n",
    "    \n",
    "\n",
    "'''"
   ]
  },
  {
   "cell_type": "markdown",
   "id": "bf356cc7",
   "metadata": {},
   "source": [
    "# 7. State a character used to give single-line comments in Python?"
   ]
  },
  {
   "cell_type": "code",
   "execution_count": null,
   "id": "969b0115",
   "metadata": {},
   "outputs": [],
   "source": [
    "'''The character used to give single-line comments in Python is the hash (#). \n",
    "Anything after the # character on the same line is ignored by the interpreter and is not executed'''"
   ]
  },
  {
   "cell_type": "markdown",
   "id": "0c7028f5",
   "metadata": {},
   "source": [
    "# 8. Mention functions which can help us to find the version of python that we are currently working on"
   ]
  },
  {
   "cell_type": "code",
   "execution_count": null,
   "id": "cda8a0e3",
   "metadata": {},
   "outputs": [],
   "source": [
    "'''\n",
    "in command prompt we can check it by just writing py and Enter botton\n",
    "\n",
    "and for jupytre notebook we can give write\n",
    "\n",
    "import platform\n",
    "\n",
    "print(platform.python_version())\n",
    "\n",
    "'''"
   ]
  },
  {
   "cell_type": "markdown",
   "id": "0cccb2a1",
   "metadata": {},
   "source": [
    "# 9. Python supports the creation of anonymous functions at runtime, using a construct called"
   ]
  },
  {
   "cell_type": "code",
   "execution_count": null,
   "id": "1801975d",
   "metadata": {},
   "outputs": [],
   "source": [
    "'''The creation of anonymous functions at runtime, using a construct called lambda. \n",
    "Lambda functions are also known as anonymous functions because they do not have a name. \n",
    "Lambda functions are defined using the lambda keyword, followed by a parameter list, a colon, and an expression. \n",
    "\n",
    "For example\n",
    "\n",
    "square = lambda x: x * x\n",
    "\n",
    "print(square(5))\n",
    "\n",
    "'''"
   ]
  },
  {
   "cell_type": "markdown",
   "id": "9d1560b8",
   "metadata": {},
   "source": [
    "# 10. What does pip stand for python?"
   ]
  },
  {
   "cell_type": "markdown",
   "id": "d17ab778",
   "metadata": {},
   "source": [
    "#\"pip\" stands for \"Pip Installs Packages\" or sometimes referred to as \"Pip Installs Python.\"\n",
    "\n"
   ]
  },
  {
   "cell_type": "markdown",
   "id": "4a7a9e56",
   "metadata": {},
   "source": [
    "# 11. Mention a few built-in functions in python?"
   ]
  },
  {
   "cell_type": "code",
   "execution_count": null,
   "id": "28102f11",
   "metadata": {},
   "outputs": [],
   "source": [
    "'''Few examples of built-in functions in Python:\n",
    "\n",
    "print(): Used to display output on the console.\n",
    "len(): Returns the length (number of elements) of a sequence or collection.\n",
    "type(): Returns the type of an object.\n",
    "input(): Reads user input from the console.\n",
    "range(): Generates a sequence of numbers.\n",
    "str(): Converts an object into a string representation.\n",
    "int(): Converts a string or number into an integer.\n",
    "float(): Converts a string or number into a floating-point number.\n",
    "list(): Creates a list from a sequence of elements.\n",
    "dict(): Creates a dictionary object.\n",
    "max(): Returns the maximum value from a sequence.\n",
    "min(): Returns the minimum value from a sequence.\n",
    "sum(): Calculates the sum of a sequence of numbers.\n",
    "'''"
   ]
  },
  {
   "cell_type": "markdown",
   "id": "c96a9cb1",
   "metadata": {},
   "source": [
    "# 12. What is the maximum possible length of an identifier in Python?"
   ]
  },
  {
   "cell_type": "code",
   "execution_count": null,
   "id": "ff0ff902",
   "metadata": {},
   "outputs": [],
   "source": [
    "'''\n",
    "\n",
    "The maximum possible length of an identifier in Python is 79 characters. \n",
    "Identifiers are the names that you give to variables, functions, classes, and other objects in Python. \n",
    "They can be made up of letters, numbers, and underscores, and they must start with a letter.\n",
    "\n",
    "However, the PEP-8 style guide recommends that identifiers should be no longer than 32 characters. \n",
    "This is because longer identifiers can be difficult to read and understand, and they can also make your code more difficult to maintain.\n",
    "\n",
    "Here are some examples of valid identifiers in Python:\n",
    "\n",
    "my_variable\n",
    "function_name\n",
    "\n",
    "'''"
   ]
  },
  {
   "cell_type": "markdown",
   "id": "e0ee4c1b",
   "metadata": {},
   "source": [
    "# 13. What are the benefits of using Python?"
   ]
  },
  {
   "cell_type": "code",
   "execution_count": null,
   "id": "efa8f26a",
   "metadata": {},
   "outputs": [],
   "source": [
    "'''\n",
    "Benefits of using python are as follows:\n",
    "\n",
    "Readability and Simplicity\n",
    "Wide Range of Applications\n",
    "Large and Active Community\n",
    "Cross-platform Compatibility\n",
    "Extensive Standard Library\n",
    "Integration Capabilities\n",
    "Rapid Development and Prototyping\n",
    "Scalability and Performance\n",
    "\n",
    "'''"
   ]
  },
  {
   "cell_type": "markdown",
   "id": "1020671c",
   "metadata": {},
   "source": [
    "# 14. How is memory managed in Python?"
   ]
  },
  {
   "cell_type": "code",
   "execution_count": null,
   "id": "6939046f",
   "metadata": {},
   "outputs": [],
   "source": [
    "'''\n",
    "\n",
    "Memory management in Python is automatic which means that the Python interpreter takes care of allocating and deallocating memory for objects as needed. \n",
    "The Python interpreter uses a garbage collector to track which objects are still in use and which objects can be discarded.\n",
    "\n",
    "The garbage collector works by keeping track of the references to objects. \n",
    "An object is said to be referenced if there is at least one variable that refers to it. \n",
    "If an object is not referenced, then it is said to be garbage and can be discarded.\n",
    "\n",
    "Here are some additional details about how memory is managed in Python:\n",
    "\n",
    "The heap: \n",
    "\n",
    "The heap is a region of memory that is used to store objects that are created dynamically. \n",
    "The garbage collector only deallocates memory from the heap.\n",
    "\n",
    "The stack: \n",
    "\n",
    "The stack is a region of memory that is used to store local variables and function call frames. \n",
    "The stack is managed by the Python interpreter, and the garbage collector does not deallocate memory from the stack.\n",
    "\n",
    "Reference counting: \n",
    "\n",
    "The garbage collector uses reference counting to track which objects are still in use. \n",
    "An object's reference count is the number of variables that refer to it. When the reference count of an object reaches zero, then the object is garbage and can be discarded.\n",
    "\n",
    "Cycles: \n",
    "\n",
    "Cycles can occur in object graphs, which can prevent the garbage collector from deallocateing memory. \n",
    "A cycle occurs when two or more objects refer to each other. The garbage collector can detect cycles and break them, but this can be a time-consuming process.\n",
    "\n",
    "'''"
   ]
  },
  {
   "cell_type": "markdown",
   "id": "27d0762c",
   "metadata": {},
   "source": [
    "# 15. How to install Python on Windows and set path variables?"
   ]
  },
  {
   "cell_type": "code",
   "execution_count": null,
   "id": "1592f519",
   "metadata": {},
   "outputs": [],
   "source": [
    "'''\n",
    "Here are the steps on how to install Python on Windows and set path variables:\n",
    "\n",
    "Download the latest version of Python from the official website: https://www.python.org/downloads/.\n",
    "Run the installer and follow the on-screen instructions.\n",
    "Once Python is installed, you need to add the Python path to your environment variables. \n",
    "This will allow you to run Python scripts from the command prompt.\n",
    "\n",
    "To add the Python path to your environment variables, follow these steps:\n",
    "\n",
    "Open the System Properties dialog box.\n",
    "Click on the Advanced tab.\n",
    "Click on the Environment Variables button.\n",
    "In the System Variables section, click on the Path variable.\n",
    "Click on the Edit button.\n",
    "In the Edit environment variable dialog box, add the path to the Python installation directory to the Variable value field.\n",
    "Click on the OK button to save your changes.\n",
    "\n",
    "\n",
    "\n",
    "'''"
   ]
  },
  {
   "cell_type": "markdown",
   "id": "6051d025",
   "metadata": {},
   "source": [
    "# 16. Is indentation required in python?"
   ]
  },
  {
   "cell_type": "code",
   "execution_count": null,
   "id": "a5a453b0",
   "metadata": {},
   "outputs": [],
   "source": [
    "'''\n",
    "Yes, indentation is required in Python. Indentation is used to denote blocks of code in Python. \n",
    "For example, the following code defines a function called factorial() that calculates the factorial of a number:\n",
    "\n",
    "def factorial(n):\n",
    "    if n == 0:\n",
    "        return 1\n",
    "    else:\n",
    "        return n * factorial(n - 1)\n",
    "        \n",
    "The indentation of the code shows that the if statement and the else statement are part of the factorial() function. \n",
    "If the indentation is not correct, the code will not work.\n",
    "\n",
    "The Python interpreter uses indentation to determine the scope of variables and statements.\n",
    "\n",
    "'''"
   ]
  }
 ],
 "metadata": {
  "kernelspec": {
   "display_name": "Python 3 (ipykernel)",
   "language": "python",
   "name": "python3"
  },
  "language_info": {
   "codemirror_mode": {
    "name": "ipython",
    "version": 3
   },
   "file_extension": ".py",
   "mimetype": "text/x-python",
   "name": "python",
   "nbconvert_exporter": "python",
   "pygments_lexer": "ipython3",
   "version": "3.9.13"
  }
 },
 "nbformat": 4,
 "nbformat_minor": 5
}
